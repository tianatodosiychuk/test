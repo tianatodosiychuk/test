{
  "cells": [
    {
      "cell_type": "markdown",
      "metadata": {
        "id": "CcUT6Fon_qRE"
      },
      "source": [
        "### Required Assignment 5.1: Will the Customer Accept the Coupon?\n",
        "\n",
        "**Context**\n",
        "\n",
        "Imagine driving through town and a coupon is delivered to your cell phone for a restaurant near where you are driving. Would you accept that coupon and take a short detour to the restaurant? Would you accept the coupon but use it on a subsequent trip? Would you ignore the coupon entirely? What if the coupon was for a bar instead of a restaurant? What about a coffee house? Would you accept a bar coupon with a minor passenger in the car? What about if it was just you and your partner in the car? Would weather impact the rate of acceptance? What about the time of day?\n",
        "\n",
        "Obviously, proximity to the business is a factor on whether the coupon is delivered to the driver or not, but what are the factors that determine whether a driver accepts the coupon once it is delivered to them? How would you determine whether a driver is likely to accept a coupon?\n",
        "\n",
        "**Overview**\n",
        "\n",
        "The goal of this project is to use what you know about visualizations and probability distributions to distinguish between customers who accepted a driving coupon versus those that did not.\n",
        "\n",
        "**Data**\n",
        "\n",
        "This data comes to us from the UCI Machine Learning repository and was collected via a survey on Amazon Mechanical Turk. The survey describes different driving scenarios including the destination, current time, weather, passenger, etc., and then ask the person whether he will accept the coupon if he is the driver. Answers that the user will drive there ‘right away’ or ‘later before the coupon expires’ are labeled as ‘Y = 1’ and answers ‘no, I do not want the coupon’ are labeled as ‘Y = 0’.  There are five different types of coupons -- less expensive restaurants (under \\$20), coffee houses, carry out & take away, bar, and more expensive restaurants (\\$20 - $50)."
      ]
    },
    {
      "cell_type": "markdown",
      "metadata": {
        "id": "1wORvMBJ_qRF"
      },
      "source": [
        "**Deliverables**\n",
        "\n",
        "Your final product should be a brief report that highlights the differences between customers who did and did not accept the coupons.  To explore the data you will utilize your knowledge of plotting, statistical summaries, and visualization using Python. You will publish your findings in a public facing github repository as your first portfolio piece.\n",
        "\n",
        "\n",
        "\n"
      ]
    },
    {
      "cell_type": "markdown",
      "metadata": {
        "id": "pG6_Ym6q_qRG"
      },
      "source": [
        "### Data Description\n",
        "Keep in mind that these values mentioned below are average values.\n",
        "\n",
        "The attributes of this data set include:\n",
        "1. User attributes\n",
        "    -  Gender: male, female\n",
        "    -  Age: below 21, 21 to 25, 26 to 30, etc.\n",
        "    -  Marital Status: single, married partner, unmarried partner, or widowed\n",
        "    -  Number of children: 0, 1, or more than 1\n",
        "    -  Education: high school, bachelors degree, associates degree, or graduate degree\n",
        "    -  Occupation: architecture & engineering, business & financial, etc.\n",
        "    -  Annual income: less than \\\\$12500, \\\\$12500 - \\\\$24999, \\\\$25000 - \\\\$37499, etc.\n",
        "    -  Number of times that he/she goes to a bar: 0, less than 1, 1 to 3, 4 to 8 or greater than 8\n",
        "    -  Number of times that he/she buys takeaway food: 0, less than 1, 1 to 3, 4 to 8 or greater\n",
        "    than 8\n",
        "    -  Number of times that he/she goes to a coffee house: 0, less than 1, 1 to 3, 4 to 8 or\n",
        "    greater than 8\n",
        "    -  Number of times that he/she eats at a restaurant with average expense less than \\\\$20 per\n",
        "    person: 0, less than 1, 1 to 3, 4 to 8 or greater than 8\n",
        "    -  Number of times that he/she goes to a bar: 0, less than 1, 1 to 3, 4 to 8 or greater than 8\n",
        "    \n",
        "\n",
        "2. Contextual attributes\n",
        "    - Driving destination: home, work, or no urgent destination\n",
        "    - Location of user, coupon and destination: we provide a map to show the geographical\n",
        "    location of the user, destination, and the venue, and we mark the distance between each\n",
        "    two places with time of driving. The user can see whether the venue is in the same\n",
        "    direction as the destination.\n",
        "    - Weather: sunny, rainy, or snowy\n",
        "    - Temperature: 30F, 55F, or 80F\n",
        "    - Time: 10AM, 2PM, or 6PM\n",
        "    - Passenger: alone, partner, kid(s), or friend(s)\n",
        "\n",
        "\n",
        "3. Coupon attributes\n",
        "    - time before it expires: 2 hours or one day"
      ]
    },
    {
      "cell_type": "code",
      "execution_count": 123,
      "metadata": {
        "id": "dzNoP3o__qRG"
      },
      "outputs": [],
      "source": [
        "import matplotlib.pyplot as plt\n",
        "import seaborn as sns\n",
        "import pandas as pd\n",
        "import numpy as np"
      ]
    },
    {
      "cell_type": "markdown",
      "metadata": {
        "id": "Ct8pI1uE_qRG"
      },
      "source": [
        "### Problems\n",
        "\n",
        "Use the prompts below to get started with your data analysis.  \n",
        "\n",
        "1. Read in the `coupons.csv` file.\n",
        "\n",
        "\n"
      ]
    },
    {
      "cell_type": "code",
      "execution_count": 124,
      "metadata": {
        "id": "X0vbffYg_qRH"
      },
      "outputs": [],
      "source": [
        "data = pd.read_csv('data/coupons.csv')"
      ]
    },
    {
      "cell_type": "code",
      "execution_count": 125,
      "metadata": {
        "id": "TXofQ_DF_qRH",
        "outputId": "d98631f8-e078-48c2-9916-1aa23638896d",
        "colab": {
          "base_uri": "https://localhost:8080/",
          "height": 342
        }
      },
      "outputs": [
        {
          "output_type": "execute_result",
          "data": {
            "text/plain": [
              "       destination  passanger weather  temperature  time  \\\n",
              "0  No Urgent Place      Alone   Sunny           55   2PM   \n",
              "1  No Urgent Place  Friend(s)   Sunny           80  10AM   \n",
              "2  No Urgent Place  Friend(s)   Sunny           80  10AM   \n",
              "3  No Urgent Place  Friend(s)   Sunny           80   2PM   \n",
              "4  No Urgent Place  Friend(s)   Sunny           80   2PM   \n",
              "\n",
              "                  coupon expiration  gender age      maritalStatus  ...  \\\n",
              "0        Restaurant(<20)         1d  Female  21  Unmarried partner  ...   \n",
              "1           Coffee House         2h  Female  21  Unmarried partner  ...   \n",
              "2  Carry out & Take away         2h  Female  21  Unmarried partner  ...   \n",
              "3           Coffee House         2h  Female  21  Unmarried partner  ...   \n",
              "4           Coffee House         1d  Female  21  Unmarried partner  ...   \n",
              "\n",
              "   CoffeeHouse CarryAway RestaurantLessThan20 Restaurant20To50  \\\n",
              "0        never       NaN                  4~8              1~3   \n",
              "1        never       NaN                  4~8              1~3   \n",
              "2        never       NaN                  4~8              1~3   \n",
              "3        never       NaN                  4~8              1~3   \n",
              "4        never       NaN                  4~8              1~3   \n",
              "\n",
              "  toCoupon_GEQ5min toCoupon_GEQ15min toCoupon_GEQ25min direction_same  \\\n",
              "0                1                 0                 0              0   \n",
              "1                1                 0                 0              0   \n",
              "2                1                 1                 0              0   \n",
              "3                1                 1                 0              0   \n",
              "4                1                 1                 0              0   \n",
              "\n",
              "  direction_opp  Y  \n",
              "0             1  1  \n",
              "1             1  0  \n",
              "2             1  1  \n",
              "3             1  0  \n",
              "4             1  0  \n",
              "\n",
              "[5 rows x 26 columns]"
            ],
            "text/html": [
              "\n",
              "  <div id=\"df-b433fe81-b37b-4027-95fb-c926819a679b\" class=\"colab-df-container\">\n",
              "    <div>\n",
              "<style scoped>\n",
              "    .dataframe tbody tr th:only-of-type {\n",
              "        vertical-align: middle;\n",
              "    }\n",
              "\n",
              "    .dataframe tbody tr th {\n",
              "        vertical-align: top;\n",
              "    }\n",
              "\n",
              "    .dataframe thead th {\n",
              "        text-align: right;\n",
              "    }\n",
              "</style>\n",
              "<table border=\"1\" class=\"dataframe\">\n",
              "  <thead>\n",
              "    <tr style=\"text-align: right;\">\n",
              "      <th></th>\n",
              "      <th>destination</th>\n",
              "      <th>passanger</th>\n",
              "      <th>weather</th>\n",
              "      <th>temperature</th>\n",
              "      <th>time</th>\n",
              "      <th>coupon</th>\n",
              "      <th>expiration</th>\n",
              "      <th>gender</th>\n",
              "      <th>age</th>\n",
              "      <th>maritalStatus</th>\n",
              "      <th>...</th>\n",
              "      <th>CoffeeHouse</th>\n",
              "      <th>CarryAway</th>\n",
              "      <th>RestaurantLessThan20</th>\n",
              "      <th>Restaurant20To50</th>\n",
              "      <th>toCoupon_GEQ5min</th>\n",
              "      <th>toCoupon_GEQ15min</th>\n",
              "      <th>toCoupon_GEQ25min</th>\n",
              "      <th>direction_same</th>\n",
              "      <th>direction_opp</th>\n",
              "      <th>Y</th>\n",
              "    </tr>\n",
              "  </thead>\n",
              "  <tbody>\n",
              "    <tr>\n",
              "      <th>0</th>\n",
              "      <td>No Urgent Place</td>\n",
              "      <td>Alone</td>\n",
              "      <td>Sunny</td>\n",
              "      <td>55</td>\n",
              "      <td>2PM</td>\n",
              "      <td>Restaurant(&lt;20)</td>\n",
              "      <td>1d</td>\n",
              "      <td>Female</td>\n",
              "      <td>21</td>\n",
              "      <td>Unmarried partner</td>\n",
              "      <td>...</td>\n",
              "      <td>never</td>\n",
              "      <td>NaN</td>\n",
              "      <td>4~8</td>\n",
              "      <td>1~3</td>\n",
              "      <td>1</td>\n",
              "      <td>0</td>\n",
              "      <td>0</td>\n",
              "      <td>0</td>\n",
              "      <td>1</td>\n",
              "      <td>1</td>\n",
              "    </tr>\n",
              "    <tr>\n",
              "      <th>1</th>\n",
              "      <td>No Urgent Place</td>\n",
              "      <td>Friend(s)</td>\n",
              "      <td>Sunny</td>\n",
              "      <td>80</td>\n",
              "      <td>10AM</td>\n",
              "      <td>Coffee House</td>\n",
              "      <td>2h</td>\n",
              "      <td>Female</td>\n",
              "      <td>21</td>\n",
              "      <td>Unmarried partner</td>\n",
              "      <td>...</td>\n",
              "      <td>never</td>\n",
              "      <td>NaN</td>\n",
              "      <td>4~8</td>\n",
              "      <td>1~3</td>\n",
              "      <td>1</td>\n",
              "      <td>0</td>\n",
              "      <td>0</td>\n",
              "      <td>0</td>\n",
              "      <td>1</td>\n",
              "      <td>0</td>\n",
              "    </tr>\n",
              "    <tr>\n",
              "      <th>2</th>\n",
              "      <td>No Urgent Place</td>\n",
              "      <td>Friend(s)</td>\n",
              "      <td>Sunny</td>\n",
              "      <td>80</td>\n",
              "      <td>10AM</td>\n",
              "      <td>Carry out &amp; Take away</td>\n",
              "      <td>2h</td>\n",
              "      <td>Female</td>\n",
              "      <td>21</td>\n",
              "      <td>Unmarried partner</td>\n",
              "      <td>...</td>\n",
              "      <td>never</td>\n",
              "      <td>NaN</td>\n",
              "      <td>4~8</td>\n",
              "      <td>1~3</td>\n",
              "      <td>1</td>\n",
              "      <td>1</td>\n",
              "      <td>0</td>\n",
              "      <td>0</td>\n",
              "      <td>1</td>\n",
              "      <td>1</td>\n",
              "    </tr>\n",
              "    <tr>\n",
              "      <th>3</th>\n",
              "      <td>No Urgent Place</td>\n",
              "      <td>Friend(s)</td>\n",
              "      <td>Sunny</td>\n",
              "      <td>80</td>\n",
              "      <td>2PM</td>\n",
              "      <td>Coffee House</td>\n",
              "      <td>2h</td>\n",
              "      <td>Female</td>\n",
              "      <td>21</td>\n",
              "      <td>Unmarried partner</td>\n",
              "      <td>...</td>\n",
              "      <td>never</td>\n",
              "      <td>NaN</td>\n",
              "      <td>4~8</td>\n",
              "      <td>1~3</td>\n",
              "      <td>1</td>\n",
              "      <td>1</td>\n",
              "      <td>0</td>\n",
              "      <td>0</td>\n",
              "      <td>1</td>\n",
              "      <td>0</td>\n",
              "    </tr>\n",
              "    <tr>\n",
              "      <th>4</th>\n",
              "      <td>No Urgent Place</td>\n",
              "      <td>Friend(s)</td>\n",
              "      <td>Sunny</td>\n",
              "      <td>80</td>\n",
              "      <td>2PM</td>\n",
              "      <td>Coffee House</td>\n",
              "      <td>1d</td>\n",
              "      <td>Female</td>\n",
              "      <td>21</td>\n",
              "      <td>Unmarried partner</td>\n",
              "      <td>...</td>\n",
              "      <td>never</td>\n",
              "      <td>NaN</td>\n",
              "      <td>4~8</td>\n",
              "      <td>1~3</td>\n",
              "      <td>1</td>\n",
              "      <td>1</td>\n",
              "      <td>0</td>\n",
              "      <td>0</td>\n",
              "      <td>1</td>\n",
              "      <td>0</td>\n",
              "    </tr>\n",
              "  </tbody>\n",
              "</table>\n",
              "<p>5 rows × 26 columns</p>\n",
              "</div>\n",
              "    <div class=\"colab-df-buttons\">\n",
              "\n",
              "  <div class=\"colab-df-container\">\n",
              "    <button class=\"colab-df-convert\" onclick=\"convertToInteractive('df-b433fe81-b37b-4027-95fb-c926819a679b')\"\n",
              "            title=\"Convert this dataframe to an interactive table.\"\n",
              "            style=\"display:none;\">\n",
              "\n",
              "  <svg xmlns=\"http://www.w3.org/2000/svg\" height=\"24px\" viewBox=\"0 -960 960 960\">\n",
              "    <path d=\"M120-120v-720h720v720H120Zm60-500h600v-160H180v160Zm220 220h160v-160H400v160Zm0 220h160v-160H400v160ZM180-400h160v-160H180v160Zm440 0h160v-160H620v160ZM180-180h160v-160H180v160Zm440 0h160v-160H620v160Z\"/>\n",
              "  </svg>\n",
              "    </button>\n",
              "\n",
              "  <style>\n",
              "    .colab-df-container {\n",
              "      display:flex;\n",
              "      gap: 12px;\n",
              "    }\n",
              "\n",
              "    .colab-df-convert {\n",
              "      background-color: #E8F0FE;\n",
              "      border: none;\n",
              "      border-radius: 50%;\n",
              "      cursor: pointer;\n",
              "      display: none;\n",
              "      fill: #1967D2;\n",
              "      height: 32px;\n",
              "      padding: 0 0 0 0;\n",
              "      width: 32px;\n",
              "    }\n",
              "\n",
              "    .colab-df-convert:hover {\n",
              "      background-color: #E2EBFA;\n",
              "      box-shadow: 0px 1px 2px rgba(60, 64, 67, 0.3), 0px 1px 3px 1px rgba(60, 64, 67, 0.15);\n",
              "      fill: #174EA6;\n",
              "    }\n",
              "\n",
              "    .colab-df-buttons div {\n",
              "      margin-bottom: 4px;\n",
              "    }\n",
              "\n",
              "    [theme=dark] .colab-df-convert {\n",
              "      background-color: #3B4455;\n",
              "      fill: #D2E3FC;\n",
              "    }\n",
              "\n",
              "    [theme=dark] .colab-df-convert:hover {\n",
              "      background-color: #434B5C;\n",
              "      box-shadow: 0px 1px 3px 1px rgba(0, 0, 0, 0.15);\n",
              "      filter: drop-shadow(0px 1px 2px rgba(0, 0, 0, 0.3));\n",
              "      fill: #FFFFFF;\n",
              "    }\n",
              "  </style>\n",
              "\n",
              "    <script>\n",
              "      const buttonEl =\n",
              "        document.querySelector('#df-b433fe81-b37b-4027-95fb-c926819a679b button.colab-df-convert');\n",
              "      buttonEl.style.display =\n",
              "        google.colab.kernel.accessAllowed ? 'block' : 'none';\n",
              "\n",
              "      async function convertToInteractive(key) {\n",
              "        const element = document.querySelector('#df-b433fe81-b37b-4027-95fb-c926819a679b');\n",
              "        const dataTable =\n",
              "          await google.colab.kernel.invokeFunction('convertToInteractive',\n",
              "                                                    [key], {});\n",
              "        if (!dataTable) return;\n",
              "\n",
              "        const docLinkHtml = 'Like what you see? Visit the ' +\n",
              "          '<a target=\"_blank\" href=https://colab.research.google.com/notebooks/data_table.ipynb>data table notebook</a>'\n",
              "          + ' to learn more about interactive tables.';\n",
              "        element.innerHTML = '';\n",
              "        dataTable['output_type'] = 'display_data';\n",
              "        await google.colab.output.renderOutput(dataTable, element);\n",
              "        const docLink = document.createElement('div');\n",
              "        docLink.innerHTML = docLinkHtml;\n",
              "        element.appendChild(docLink);\n",
              "      }\n",
              "    </script>\n",
              "  </div>\n",
              "\n",
              "\n",
              "    <div id=\"df-8094364b-ce7f-4761-ae6e-a57f82bcaa1e\">\n",
              "      <button class=\"colab-df-quickchart\" onclick=\"quickchart('df-8094364b-ce7f-4761-ae6e-a57f82bcaa1e')\"\n",
              "                title=\"Suggest charts\"\n",
              "                style=\"display:none;\">\n",
              "\n",
              "<svg xmlns=\"http://www.w3.org/2000/svg\" height=\"24px\"viewBox=\"0 0 24 24\"\n",
              "     width=\"24px\">\n",
              "    <g>\n",
              "        <path d=\"M19 3H5c-1.1 0-2 .9-2 2v14c0 1.1.9 2 2 2h14c1.1 0 2-.9 2-2V5c0-1.1-.9-2-2-2zM9 17H7v-7h2v7zm4 0h-2V7h2v10zm4 0h-2v-4h2v4z\"/>\n",
              "    </g>\n",
              "</svg>\n",
              "      </button>\n",
              "\n",
              "<style>\n",
              "  .colab-df-quickchart {\n",
              "      --bg-color: #E8F0FE;\n",
              "      --fill-color: #1967D2;\n",
              "      --hover-bg-color: #E2EBFA;\n",
              "      --hover-fill-color: #174EA6;\n",
              "      --disabled-fill-color: #AAA;\n",
              "      --disabled-bg-color: #DDD;\n",
              "  }\n",
              "\n",
              "  [theme=dark] .colab-df-quickchart {\n",
              "      --bg-color: #3B4455;\n",
              "      --fill-color: #D2E3FC;\n",
              "      --hover-bg-color: #434B5C;\n",
              "      --hover-fill-color: #FFFFFF;\n",
              "      --disabled-bg-color: #3B4455;\n",
              "      --disabled-fill-color: #666;\n",
              "  }\n",
              "\n",
              "  .colab-df-quickchart {\n",
              "    background-color: var(--bg-color);\n",
              "    border: none;\n",
              "    border-radius: 50%;\n",
              "    cursor: pointer;\n",
              "    display: none;\n",
              "    fill: var(--fill-color);\n",
              "    height: 32px;\n",
              "    padding: 0;\n",
              "    width: 32px;\n",
              "  }\n",
              "\n",
              "  .colab-df-quickchart:hover {\n",
              "    background-color: var(--hover-bg-color);\n",
              "    box-shadow: 0 1px 2px rgba(60, 64, 67, 0.3), 0 1px 3px 1px rgba(60, 64, 67, 0.15);\n",
              "    fill: var(--button-hover-fill-color);\n",
              "  }\n",
              "\n",
              "  .colab-df-quickchart-complete:disabled,\n",
              "  .colab-df-quickchart-complete:disabled:hover {\n",
              "    background-color: var(--disabled-bg-color);\n",
              "    fill: var(--disabled-fill-color);\n",
              "    box-shadow: none;\n",
              "  }\n",
              "\n",
              "  .colab-df-spinner {\n",
              "    border: 2px solid var(--fill-color);\n",
              "    border-color: transparent;\n",
              "    border-bottom-color: var(--fill-color);\n",
              "    animation:\n",
              "      spin 1s steps(1) infinite;\n",
              "  }\n",
              "\n",
              "  @keyframes spin {\n",
              "    0% {\n",
              "      border-color: transparent;\n",
              "      border-bottom-color: var(--fill-color);\n",
              "      border-left-color: var(--fill-color);\n",
              "    }\n",
              "    20% {\n",
              "      border-color: transparent;\n",
              "      border-left-color: var(--fill-color);\n",
              "      border-top-color: var(--fill-color);\n",
              "    }\n",
              "    30% {\n",
              "      border-color: transparent;\n",
              "      border-left-color: var(--fill-color);\n",
              "      border-top-color: var(--fill-color);\n",
              "      border-right-color: var(--fill-color);\n",
              "    }\n",
              "    40% {\n",
              "      border-color: transparent;\n",
              "      border-right-color: var(--fill-color);\n",
              "      border-top-color: var(--fill-color);\n",
              "    }\n",
              "    60% {\n",
              "      border-color: transparent;\n",
              "      border-right-color: var(--fill-color);\n",
              "    }\n",
              "    80% {\n",
              "      border-color: transparent;\n",
              "      border-right-color: var(--fill-color);\n",
              "      border-bottom-color: var(--fill-color);\n",
              "    }\n",
              "    90% {\n",
              "      border-color: transparent;\n",
              "      border-bottom-color: var(--fill-color);\n",
              "    }\n",
              "  }\n",
              "</style>\n",
              "\n",
              "      <script>\n",
              "        async function quickchart(key) {\n",
              "          const quickchartButtonEl =\n",
              "            document.querySelector('#' + key + ' button');\n",
              "          quickchartButtonEl.disabled = true;  // To prevent multiple clicks.\n",
              "          quickchartButtonEl.classList.add('colab-df-spinner');\n",
              "          try {\n",
              "            const charts = await google.colab.kernel.invokeFunction(\n",
              "                'suggestCharts', [key], {});\n",
              "          } catch (error) {\n",
              "            console.error('Error during call to suggestCharts:', error);\n",
              "          }\n",
              "          quickchartButtonEl.classList.remove('colab-df-spinner');\n",
              "          quickchartButtonEl.classList.add('colab-df-quickchart-complete');\n",
              "        }\n",
              "        (() => {\n",
              "          let quickchartButtonEl =\n",
              "            document.querySelector('#df-8094364b-ce7f-4761-ae6e-a57f82bcaa1e button');\n",
              "          quickchartButtonEl.style.display =\n",
              "            google.colab.kernel.accessAllowed ? 'block' : 'none';\n",
              "        })();\n",
              "      </script>\n",
              "    </div>\n",
              "\n",
              "    </div>\n",
              "  </div>\n"
            ],
            "application/vnd.google.colaboratory.intrinsic+json": {
              "type": "dataframe",
              "variable_name": "data"
            }
          },
          "metadata": {},
          "execution_count": 125
        }
      ],
      "source": [
        "data.head()"
      ]
    },
    {
      "cell_type": "code",
      "source": [
        "print(\"1. Loading the coupon dataset...\")\n",
        "data = pd.read_csv('data/coupons.csv')\n",
        "\n",
        "print(f\"Dataset shape: {data.shape}\")\n",
        "print(\"\\nFirst 5 rows:\")\n",
        "print(data.head())\n",
        "\n",
        "print(\"\\nDataset info:\")\n",
        "print(data.info())"
      ],
      "metadata": {
        "colab": {
          "base_uri": "https://localhost:8080/"
        },
        "id": "E11Lg6WBITVU",
        "outputId": "7ddb8dd3-b04d-4d42-acd5-fdc8ebac2bec"
      },
      "execution_count": 126,
      "outputs": [
        {
          "output_type": "stream",
          "name": "stdout",
          "text": [
            "1. Loading the coupon dataset...\n",
            "Dataset shape: (12684, 26)\n",
            "\n",
            "First 5 rows:\n",
            "       destination  passanger weather  temperature  time  \\\n",
            "0  No Urgent Place      Alone   Sunny           55   2PM   \n",
            "1  No Urgent Place  Friend(s)   Sunny           80  10AM   \n",
            "2  No Urgent Place  Friend(s)   Sunny           80  10AM   \n",
            "3  No Urgent Place  Friend(s)   Sunny           80   2PM   \n",
            "4  No Urgent Place  Friend(s)   Sunny           80   2PM   \n",
            "\n",
            "                  coupon expiration  gender age      maritalStatus  ...  \\\n",
            "0        Restaurant(<20)         1d  Female  21  Unmarried partner  ...   \n",
            "1           Coffee House         2h  Female  21  Unmarried partner  ...   \n",
            "2  Carry out & Take away         2h  Female  21  Unmarried partner  ...   \n",
            "3           Coffee House         2h  Female  21  Unmarried partner  ...   \n",
            "4           Coffee House         1d  Female  21  Unmarried partner  ...   \n",
            "\n",
            "   CoffeeHouse CarryAway RestaurantLessThan20 Restaurant20To50  \\\n",
            "0        never       NaN                  4~8              1~3   \n",
            "1        never       NaN                  4~8              1~3   \n",
            "2        never       NaN                  4~8              1~3   \n",
            "3        never       NaN                  4~8              1~3   \n",
            "4        never       NaN                  4~8              1~3   \n",
            "\n",
            "  toCoupon_GEQ5min toCoupon_GEQ15min toCoupon_GEQ25min direction_same  \\\n",
            "0                1                 0                 0              0   \n",
            "1                1                 0                 0              0   \n",
            "2                1                 1                 0              0   \n",
            "3                1                 1                 0              0   \n",
            "4                1                 1                 0              0   \n",
            "\n",
            "  direction_opp  Y  \n",
            "0             1  1  \n",
            "1             1  0  \n",
            "2             1  1  \n",
            "3             1  0  \n",
            "4             1  0  \n",
            "\n",
            "[5 rows x 26 columns]\n",
            "\n",
            "Dataset info:\n",
            "<class 'pandas.core.frame.DataFrame'>\n",
            "RangeIndex: 12684 entries, 0 to 12683\n",
            "Data columns (total 26 columns):\n",
            " #   Column                Non-Null Count  Dtype \n",
            "---  ------                --------------  ----- \n",
            " 0   destination           12684 non-null  object\n",
            " 1   passanger             12684 non-null  object\n",
            " 2   weather               12684 non-null  object\n",
            " 3   temperature           12684 non-null  int64 \n",
            " 4   time                  12684 non-null  object\n",
            " 5   coupon                12684 non-null  object\n",
            " 6   expiration            12684 non-null  object\n",
            " 7   gender                12684 non-null  object\n",
            " 8   age                   12684 non-null  object\n",
            " 9   maritalStatus         12684 non-null  object\n",
            " 10  has_children          12684 non-null  int64 \n",
            " 11  education             12684 non-null  object\n",
            " 12  occupation            12684 non-null  object\n",
            " 13  income                12684 non-null  object\n",
            " 14  car                   108 non-null    object\n",
            " 15  Bar                   12577 non-null  object\n",
            " 16  CoffeeHouse           12467 non-null  object\n",
            " 17  CarryAway             12533 non-null  object\n",
            " 18  RestaurantLessThan20  12554 non-null  object\n",
            " 19  Restaurant20To50      12495 non-null  object\n",
            " 20  toCoupon_GEQ5min      12684 non-null  int64 \n",
            " 21  toCoupon_GEQ15min     12684 non-null  int64 \n",
            " 22  toCoupon_GEQ25min     12684 non-null  int64 \n",
            " 23  direction_same        12684 non-null  int64 \n",
            " 24  direction_opp         12684 non-null  int64 \n",
            " 25  Y                     12684 non-null  int64 \n",
            "dtypes: int64(8), object(18)\n",
            "memory usage: 2.5+ MB\n",
            "None\n"
          ]
        }
      ]
    },
    {
      "cell_type": "markdown",
      "metadata": {
        "id": "GcDs78ZH_qRH"
      },
      "source": [
        "2. Investigate the dataset for missing or problematic data."
      ]
    },
    {
      "cell_type": "code",
      "execution_count": 127,
      "metadata": {
        "id": "6CwL6oWj_qRH",
        "colab": {
          "base_uri": "https://localhost:8080/"
        },
        "outputId": "f4aa82a6-06e0-4728-d05c-3b4ea353f54f"
      },
      "outputs": [
        {
          "output_type": "stream",
          "name": "stdout",
          "text": [
            "\n",
            "==================================================\n",
            "2. INVESTIGATING MISSING DATA\n",
            "==================================================\n",
            "\n",
            "Missing values per column:\n",
            "                      Missing Count  Missing Percentage\n",
            "car                           12576           99.148534\n",
            "CoffeeHouse                     217            1.710817\n",
            "Restaurant20To50                189            1.490066\n",
            "CarryAway                       151            1.190476\n",
            "RestaurantLessThan20            130            1.024913\n",
            "Bar                             107            0.843582\n",
            "\n",
            "Note: 'car' column has significant missing data (99.14%)\n",
            "CarryAway column has some missing data (1.07%)\n"
          ]
        }
      ],
      "source": [
        "print(\"\\n\" + \"=\"*50)\n",
        "print(\"2. INVESTIGATING MISSING DATA\")\n",
        "print(\"=\"*50)\n",
        "\n",
        "print(\"\\nMissing values per column:\")\n",
        "missing_data = data.isnull().sum()\n",
        "missing_percent = (missing_data / len(data)) * 100\n",
        "missing_summary = pd.DataFrame({\n",
        "    'Missing Count': missing_data,\n",
        "    'Missing Percentage': missing_percent\n",
        "}).sort_values('Missing Count', ascending=False)\n",
        "\n",
        "print(missing_summary[missing_summary['Missing Count'] > 0])\n",
        "\n",
        "print(\"\\nNote: 'car' column has significant missing data (99.14%)\")\n",
        "print(\"CarryAway column has some missing data (1.07%)\")"
      ]
    },
    {
      "cell_type": "markdown",
      "metadata": {
        "id": "bSdVSpYB_qRH"
      },
      "source": [
        "3. Decide what to do about your missing data -- drop, replace, other..."
      ]
    },
    {
      "cell_type": "code",
      "execution_count": 128,
      "metadata": {
        "id": "tyvoAC5F_qRI",
        "colab": {
          "base_uri": "https://localhost:8080/"
        },
        "outputId": "da0bc45e-88bb-4fbc-8886-997c47aa0ad3"
      },
      "outputs": [
        {
          "output_type": "stream",
          "name": "stdout",
          "text": [
            "\n",
            "==================================================\n",
            "3. HANDLING MISSING DATA\n",
            "==================================================\n",
            "Decision: Drop 'car' column due to excessive missing data (99.14%)\n",
            "For CarryAway: Fill missing values with 'never' (most conservative approach)\n",
            "\n",
            "Dataset shape after cleaning: (12684, 25)\n",
            "Remaining missing values: 643\n"
          ]
        }
      ],
      "source": [
        "print(\"\\n\" + \"=\"*50)\n",
        "print(\"3. HANDLING MISSING DATA\")\n",
        "print(\"=\"*50)\n",
        "\n",
        "print(\"Decision: Drop 'car' column due to excessive missing data (99.14%)\")\n",
        "print(\"For CarryAway: Fill missing values with 'never' (most conservative approach)\")\n",
        "\n",
        "# Drop car column\n",
        "data_clean = data.drop('car', axis=1)\n",
        "\n",
        "# Fill CarryAway missing values with 'never'\n",
        "data_clean['CarryAway'] = data_clean['CarryAway'].fillna('never')\n",
        "\n",
        "print(f\"\\nDataset shape after cleaning: {data_clean.shape}\")\n",
        "print(\"Remaining missing values:\", data_clean.isnull().sum().sum())"
      ]
    },
    {
      "cell_type": "markdown",
      "metadata": {
        "id": "YE6oJbXd_qRI"
      },
      "source": [
        "4. What proportion of the total observations chose to accept the coupon?\n",
        "\n"
      ]
    },
    {
      "cell_type": "code",
      "execution_count": 129,
      "metadata": {
        "id": "86GGqBTv_qRI",
        "colab": {
          "base_uri": "https://localhost:8080/"
        },
        "outputId": "00c054cb-07a9-4fa8-9d1f-af8910884b6b"
      },
      "outputs": [
        {
          "output_type": "stream",
          "name": "stdout",
          "text": [
            "\n",
            "==================================================\n",
            "4. OVERALL COUPON ACCEPTANCE RATE\n",
            "==================================================\n",
            "Total observations: 12,684\n",
            "Coupons accepted: 7,210\n",
            "Overall acceptance rate: 56.8%\n"
          ]
        }
      ],
      "source": [
        "print(\"\\n\" + \"=\"*50)\n",
        "print(\"4. OVERALL COUPON ACCEPTANCE RATE\")\n",
        "print(\"=\"*50)\n",
        "\n",
        "acceptance_rate = data_clean['Y'].mean()\n",
        "total_coupons = len(data_clean)\n",
        "accepted_coupons = data_clean['Y'].sum()\n",
        "\n",
        "print(f\"Total observations: {total_coupons:,}\")\n",
        "print(f\"Coupons accepted: {accepted_coupons:,}\")\n",
        "print(f\"Overall acceptance rate: {acceptance_rate:.1%}\")"
      ]
    },
    {
      "cell_type": "markdown",
      "metadata": {
        "id": "vflz0DoE_qRI"
      },
      "source": [
        "5. Use a bar plot to visualize the `coupon` column."
      ]
    },
    {
      "cell_type": "code",
      "execution_count": 130,
      "metadata": {
        "id": "dHFh3E45_qRI",
        "colab": {
          "base_uri": "https://localhost:8080/",
          "height": 954
        },
        "outputId": "a03aa119-dfc3-46eb-f5fa-b803ebb6150f"
      },
      "outputs": [
        {
          "output_type": "stream",
          "name": "stdout",
          "text": [
            "\n",
            "==================================================\n",
            "5. VISUALIZING COUPON TYPES\n",
            "==================================================\n"
          ]
        },
        {
          "output_type": "display_data",
          "data": {
            "text/plain": [
              "<Figure size 1200x600 with 2 Axes>"
            ],
            "image/png": "[encoded data removed]"
          },
          "metadata": {}
        },
        {
          "output_type": "stream",
          "name": "stdout",
          "text": [
            "\n",
            "Coupon type distribution:\n",
            "coupon\n",
            "Coffee House             3996\n",
            "Restaurant(<20)          2786\n",
            "Carry out & Take away    2393\n",
            "Bar                      2017\n",
            "Restaurant(20-50)        1492\n",
            "Name: count, dtype: int64\n",
            "\n",
            "Acceptance rate by coupon type:\n",
            "Carry out & Take away: 73.5%\n",
            "Restaurant(<20): 70.7%\n",
            "Coffee House: 49.9%\n",
            "Restaurant(20-50): 44.1%\n",
            "Bar: 41.0%\n"
          ]
        }
      ],
      "source": [
        "print(\"\\n\" + \"=\"*50)\n",
        "print(\"5. VISUALIZING COUPON TYPES\")\n",
        "print(\"=\"*50)\n",
        "\n",
        "plt.figure(figsize=(12, 6))\n",
        "coupon_counts = data_clean['coupon'].value_counts()\n",
        "plt.subplot(1, 2, 1)\n",
        "coupon_counts.plot(kind='bar', color='skyblue')\n",
        "plt.title('Distribution of Coupon Types')\n",
        "plt.xlabel('Coupon Type')\n",
        "plt.ylabel('Count')\n",
        "plt.xticks(rotation=45)\n",
        "plt.tight_layout()\n",
        "\n",
        "\n",
        "# Show acceptance rate by coupon type\n",
        "plt.subplot(1, 2, 2)\n",
        "acceptance_by_coupon = data_clean.groupby('coupon')['Y'].mean().sort_values(ascending=False)\n",
        "acceptance_by_coupon.plot(kind='bar', color='lightcoral')\n",
        "plt.title('Acceptance Rate by Coupon Type')\n",
        "plt.xlabel('Coupon Type')\n",
        "plt.ylabel('Acceptance Rate')\n",
        "plt.xticks(rotation=45)\n",
        "plt.tight_layout()\n",
        "plt.show()\n",
        "\n",
        "\n",
        "print(\"\\nCoupon type distribution:\")\n",
        "print(coupon_counts)\n",
        "\n",
        "print(\"\\nAcceptance rate by coupon type:\")\n",
        "for coupon_type, rate in acceptance_by_coupon.items():\n",
        "    print(f\"{coupon_type}: {rate:.1%}\")\n"
      ]
    },
    {
      "cell_type": "code",
      "source": [
        "print(\"\\n\" + \"=\"*50)\n",
        "print(\"5. VISUALIZING COUPON TYPES\")\n",
        "print(\"=\"*50)\n",
        "\n",
        "plt.figure(figsize=(12, 6))\n",
        "coupon_counts = data_clean['coupon'].value_counts()\n",
        "plt.subplot(1, 2, 1)\n",
        "coupon_counts.plot(kind='bar', color='skyblue')\n",
        "plt.title('Distribution of Coupon Types')\n",
        "plt.xlabel('Coupon Type')\n",
        "plt.ylabel('Count')\n",
        "plt.xticks(rotation=45)\n",
        "\n",
        "plt.tight_layout()\n",
        "plt.show()\n",
        "\n",
        "print(\"\\nCoupon type distribution:\")\n",
        "print(coupon_counts)"
      ],
      "metadata": {
        "colab": {
          "base_uri": "https://localhost:8080/",
          "height": 833
        },
        "id": "dc1rauNcPFOV",
        "outputId": "23682751-ff05-4eff-e89c-2720e50fdd21"
      },
      "execution_count": 131,
      "outputs": [
        {
          "output_type": "stream",
          "name": "stdout",
          "text": [
            "\n",
            "==================================================\n",
            "5. VISUALIZING COUPON TYPES\n",
            "==================================================\n"
          ]
        },
        {
          "output_type": "display_data",
          "data": {
            "text/plain": [
              "<Figure size 1200x600 with 1 Axes>"
            ],
            "image/png": "[encoded data removed]"
          },
          "metadata": {}
        },
        {
          "output_type": "stream",
          "name": "stdout",
          "text": [
            "\n",
            "Coupon type distribution:\n",
            "coupon\n",
            "Coffee House             3996\n",
            "Restaurant(<20)          2786\n",
            "Carry out & Take away    2393\n",
            "Bar                      2017\n",
            "Restaurant(20-50)        1492\n",
            "Name: count, dtype: int64\n"
          ]
        }
      ]
    },
    {
      "cell_type": "code",
      "source": [
        "# Show acceptance rate by coupon type\n",
        "plt.subplot(1, 2, 2)\n",
        "acceptance_by_coupon = data_clean.groupby('coupon')['Y'].mean().sort_values(ascending=False)\n",
        "acceptance_by_coupon.plot(kind='bar', color='lightcoral')\n",
        "plt.title('Acceptance Rate by Coupon Type')\n",
        "plt.xlabel('Coupon Type')\n",
        "plt.ylabel('Acceptance Rate')\n",
        "plt.xticks(rotation=45)\n",
        "\n",
        "plt.tight_layout()\n",
        "plt.show()\n",
        "\n",
        "print(\"\\nAcceptance rate by coupon type:\")\n",
        "for coupon_type, rate in acceptance_by_coupon.items():\n",
        "    print(f\"{coupon_type}: {rate:.1%}\")\n"
      ],
      "metadata": {
        "colab": {
          "base_uri": "https://localhost:8080/",
          "height": 678
        },
        "id": "a6jxjbLJMNy6",
        "outputId": "04e3c2c7-955b-4323-ba15-6ebbdc0f6602"
      },
      "execution_count": 132,
      "outputs": [
        {
          "output_type": "display_data",
          "data": {
            "text/plain": [
              "<Figure size 800x550 with 1 Axes>"
            ],
            "image/png": "[encoded data removed]"
          },
          "metadata": {}
        },
        {
          "output_type": "stream",
          "name": "stdout",
          "text": [
            "\n",
            "Acceptance rate by coupon type:\n",
            "Carry out & Take away: 73.5%\n",
            "Restaurant(<20): 70.7%\n",
            "Coffee House: 49.9%\n",
            "Restaurant(20-50): 44.1%\n",
            "Bar: 41.0%\n"
          ]
        }
      ]
    },
    {
      "cell_type": "markdown",
      "metadata": {
        "id": "Qw4lCyx2_qRI"
      },
      "source": [
        "6. Use a histogram to visualize the temperature column."
      ]
    },
    {
      "cell_type": "code",
      "execution_count": 133,
      "metadata": {
        "id": "Yg9Anv71_qRI",
        "colab": {
          "base_uri": "https://localhost:8080/",
          "height": 649
        },
        "outputId": "634d2567-df9a-4cf3-8d76-55167b4717d7"
      },
      "outputs": [
        {
          "output_type": "stream",
          "name": "stdout",
          "text": [
            "\n",
            "==================================================\n",
            "6. TEMPERATURE DISTRIBUTION\n",
            "==================================================\n"
          ]
        },
        {
          "output_type": "execute_result",
          "data": {
            "text/plain": [
              "Text(0, 0.5, 'Frequency')"
            ]
          },
          "metadata": {},
          "execution_count": 133
        },
        {
          "output_type": "display_data",
          "data": {
            "text/plain": [
              "<Figure size 1000x600 with 1 Axes>"
            ],
            "image/png": "[encoded data removed]"
          },
          "metadata": {}
        }
      ],
      "source": [
        "# 6. Use a histogram to visualize the temperature column\n",
        "print(\"\\n\" + \"=\"*50)\n",
        "print(\"6. TEMPERATURE DISTRIBUTION\")\n",
        "print(\"=\"*50)\n",
        "\n",
        "plt.figure(figsize=(10, 6))\n",
        "plt.subplot(1, 2, 1)\n",
        "plt.hist(data_clean['temperature'], bins=20, color='orange', alpha=0.7, edgecolor='black')\n",
        "plt.title('Distribution of Temperature')\n",
        "plt.xlabel('Temperature (°F)')\n",
        "plt.ylabel('Frequency')\n"
      ]
    },
    {
      "cell_type": "code",
      "source": [
        "plt.subplot(1, 2, 2)\n",
        "temp_acceptance = data_clean.groupby('temperature')['Y'].mean()\n",
        "temp_acceptance.plot(kind='bar', color='green', alpha=0.7)\n",
        "plt.title('Acceptance Rate by Temperature')\n",
        "plt.xlabel('Temperature (°F)')\n",
        "plt.ylabel('Acceptance Rate')\n",
        "plt.tight_layout()\n",
        "plt.show()\n"
      ],
      "metadata": {
        "colab": {
          "base_uri": "https://localhost:8080/",
          "height": 556
        },
        "id": "E3okZhgKMaE2",
        "outputId": "b863d9af-8639-486e-879d-8ebf8111ac9a"
      },
      "execution_count": 134,
      "outputs": [
        {
          "output_type": "display_data",
          "data": {
            "text/plain": [
              "<Figure size 800x550 with 1 Axes>"
            ],
            "image/png": "[encoded data removed]"
          },
          "metadata": {}
        }
      ]
    },
    {
      "cell_type": "code",
      "source": [
        "print(\"Temperature distribution:\")\n",
        "print(data_clean['temperature'].value_counts().sort_index())\n",
        "print(\"\\nAcceptance rate by temperature:\")\n",
        "for temp, rate in temp_acceptance.items():\n",
        "    print(f\"{temp}°F: {rate:.1%}\")"
      ],
      "metadata": {
        "colab": {
          "base_uri": "https://localhost:8080/"
        },
        "id": "ZLdmtH9eMaCA",
        "outputId": "33b165b1-02e9-4b5e-ccfe-88380bf907a7"
      },
      "execution_count": 135,
      "outputs": [
        {
          "output_type": "stream",
          "name": "stdout",
          "text": [
            "Temperature distribution:\n",
            "temperature\n",
            "30    2316\n",
            "55    3840\n",
            "80    6528\n",
            "Name: count, dtype: int64\n",
            "\n",
            "Acceptance rate by temperature:\n",
            "30°F: 53.1%\n",
            "55°F: 53.7%\n",
            "80°F: 60.0%\n"
          ]
        }
      ]
    },
    {
      "cell_type": "code",
      "execution_count": 136,
      "metadata": {
        "id": "zLtOaJQk_qRI",
        "colab": {
          "base_uri": "https://localhost:8080/"
        },
        "outputId": "fed8b7f6-1fc2-4ac0-df6c-0230979eab60"
      },
      "outputs": [
        {
          "output_type": "stream",
          "name": "stdout",
          "text": [
            "\n",
            "============================================================\n",
            "INVESTIGATING BAR COUPONS\n",
            "============================================================\n",
            "\n",
            "1. Creating bar coupons dataset...\n",
            "Total bar coupons: 2,017\n",
            "\n",
            "2. Bar coupon acceptance rate:\n",
            "Bar coupon acceptance rate: 41.0%\n",
            "\n",
            "3. Acceptance rate by bar visit frequency:\n",
            "Bar visit frequency vs acceptance:\n",
            ">3 times/month: 67.7% (n=617.0)\n",
            "≤3 times/month: 29.2% (n=1400.0)\n",
            "\n",
            "4. Bar visits >1/month + Age >25 analysis:\n",
            "Frequent bar-goers over 25 vs others:\n",
            "Others: 33.5% (n=1597.0)\n",
            "Frequent + Over 25: 69.5% (n=420.0)\n",
            "\n",
            "5. Bar >1/month + no kids + not farming/fishing/forestry:\n",
            "Frequent bar-goers, no kids, not farming vs others:\n",
            "Others: 29.6% (n=1466.0)\n",
            "Meets conditions: 71.3% (n=551.0)\n",
            "\n",
            "6. Complex OR conditions analysis:\n",
            "Meets any of the three OR conditions vs others:\n",
            "Others: 29.8% (n=1241.0)\n",
            "Meets OR conditions: 58.9% (n=776.0)\n"
          ]
        }
      ],
      "source": [
        "# BAR COUPONS INVESTIGATION\n",
        "print(\"\\n\" + \"=\"*60)\n",
        "print(\"INVESTIGATING BAR COUPONS\")\n",
        "print(\"=\"*60)\n",
        "\n",
        "# 1. Create a new DataFrame that contains just the bar coupons\n",
        "print(\"\\n1. Creating bar coupons dataset...\")\n",
        "bar_coupons = data_clean[data_clean['coupon'] == 'Bar'].copy()\n",
        "print(f\"Total bar coupons: {len(bar_coupons):,}\")\n",
        "\n",
        "# 2. What proportion of bar coupons were accepted?\n",
        "print(\"\\n2. Bar coupon acceptance rate:\")\n",
        "bar_acceptance_rate = bar_coupons['Y'].mean()\n",
        "print(f\"Bar coupon acceptance rate: {bar_acceptance_rate:.1%}\")\n",
        "\n",
        "# 3. Compare acceptance rate: ≤3 times vs >3 times per month\n",
        "print(\"\\n3. Acceptance rate by bar visit frequency:\")\n",
        "\n",
        "# Create binary categories for bar visits\n",
        "def categorize_bar_visits(visit_freq):\n",
        "    if visit_freq in ['never', 'less1']:\n",
        "        return '≤3 times/month'\n",
        "    else:  # '1~3', '4~8', 'gt8'\n",
        "        return '>3 times/month'\n",
        "\n",
        "bar_coupons['bar_visit_category'] = bar_coupons['Bar'].apply(categorize_bar_visits)\n",
        "\n",
        "bar_visit_acceptance = bar_coupons.groupby('bar_visit_category')['Y'].agg(['mean', 'count'])\n",
        "print(\"Bar visit frequency vs acceptance:\")\n",
        "for category, stats in bar_visit_acceptance.iterrows():\n",
        "    print(f\"{category}: {stats['mean']:.1%} (n={stats['count']})\")\n",
        "\n",
        "# 4. Compare drivers who go to bars >1/month AND are >25 vs all others\n",
        "print(\"\\n4. Bar visits >1/month + Age >25 analysis:\")\n",
        "\n",
        "# Define conditions\n",
        "frequent_bar_goers = bar_coupons['Bar'].isin(['1~3', '4~8', 'gt8'])\n",
        "over_25 = bar_coupons['age'].isin(['26', '31', '36', '41', '46', '50plus'])\n",
        "\n",
        "bar_coupons['frequent_and_mature'] = frequent_bar_goers & over_25\n",
        "\n",
        "frequent_mature_acceptance = bar_coupons.groupby('frequent_and_mature')['Y'].agg(['mean', 'count'])\n",
        "print(\"Frequent bar-goers over 25 vs others:\")\n",
        "for is_frequent_mature, stats in frequent_mature_acceptance.iterrows():\n",
        "    label = \"Frequent + Over 25\" if is_frequent_mature else \"Others\"\n",
        "    print(f\"{label}: {stats['mean']:.1%} (n={stats['count']})\")\n",
        "\n",
        "# 5. Bar >1/month + no kids + not farming/fishing/forestry\n",
        "print(\"\\n5. Bar >1/month + no kids + not farming/fishing/forestry:\")\n",
        "\n",
        "frequent_bar = bar_coupons['Bar'].isin(['1~3', '4~8', 'gt8'])\n",
        "no_kids = bar_coupons['passanger'] != 'Kid(s)'\n",
        "not_farming = ~bar_coupons['occupation'].isin(['Farming Fishing & Forestry'])\n",
        "\n",
        "bar_coupons['frequent_no_kids_not_farming'] = frequent_bar & no_kids & not_farming\n",
        "\n",
        "complex_condition_acceptance = bar_coupons.groupby('frequent_no_kids_not_farming')['Y'].agg(['mean', 'count'])\n",
        "print(\"Frequent bar-goers, no kids, not farming vs others:\")\n",
        "for meets_condition, stats in complex_condition_acceptance.iterrows():\n",
        "    label = \"Meets conditions\" if meets_condition else \"Others\"\n",
        "    print(f\"{label}: {stats['mean']:.1%} (n={stats['count']})\")\n",
        "\n",
        "# 6. Complex OR conditions\n",
        "print(\"\\n6. Complex OR conditions analysis:\")\n",
        "\n",
        "# Condition 1: Bar >1/month + no kids + not widowed\n",
        "cond1 = (bar_coupons['Bar'].isin(['1~3', '4~8', 'gt8']) &\n",
        "         (bar_coupons['passanger'] != 'Kid(s)') &\n",
        "         (bar_coupons['maritalStatus'] != 'Widowed'))\n",
        "\n",
        "# Condition 2: Bar >1/month + age <30\n",
        "cond2 = (bar_coupons['Bar'].isin(['1~3', '4~8', 'gt8']) &\n",
        "         bar_coupons['age'].isin(['below21', '21', '26']))\n",
        "\n",
        "# Condition 3: Cheap restaurants >4/month + income <50K\n",
        "cond3 = (bar_coupons['RestaurantLessThan20'].isin(['4~8', 'gt8']) &\n",
        "         bar_coupons['income'].isin(['Less than $12500', '$12500 - $24999',\n",
        "                                   '$25000 - $37499', '$37500 - $49999']))\n",
        "\n",
        "bar_coupons['meets_any_condition'] = cond1 | cond2 | cond3\n",
        "\n",
        "or_conditions_acceptance = bar_coupons.groupby('meets_any_condition')['Y'].agg(['mean', 'count'])\n",
        "print(\"Meets any of the three OR conditions vs others:\")\n",
        "for meets_any, stats in or_conditions_acceptance.iterrows():\n",
        "    label = \"Meets OR conditions\" if meets_any else \"Others\"\n",
        "    print(f\"{label}: {stats['mean']:.1%} (n={stats['count']})\")"
      ]
    },
    {
      "cell_type": "markdown",
      "metadata": {
        "id": "FupfgeJk_qRJ"
      },
      "source": [
        "**Investigating the Bar Coupons**\n",
        "\n",
        "Now, we will lead you through an exploration of just the bar related coupons.  \n",
        "\n",
        "1. Create a new `DataFrame` that contains just the bar coupons.\n"
      ]
    },
    {
      "cell_type": "code",
      "execution_count": 137,
      "metadata": {
        "id": "tMBlWuGq_qRJ",
        "colab": {
          "base_uri": "https://localhost:8080/"
        },
        "outputId": "b46380ef-7d9e-4e00-c716-6e9ac9bd9db7"
      },
      "outputs": [
        {
          "output_type": "stream",
          "name": "stdout",
          "text": [
            "\n",
            "============================================================\n",
            "INVESTIGATING BAR COUPONS\n",
            "============================================================\n",
            "\n",
            "1. Creating bar coupons dataset...\n",
            "Total bar coupons: 2,017\n"
          ]
        }
      ],
      "source": [
        "# BAR COUPONS INVESTIGATION\n",
        "print(\"\\n\" + \"=\"*60)\n",
        "print(\"INVESTIGATING BAR COUPONS\")\n",
        "print(\"=\"*60)\n",
        "\n",
        "# 1. Create a new DataFrame that contains just the bar coupons\n",
        "print(\"\\n1. Creating bar coupons dataset...\")\n",
        "bar_coupons = data_clean[data_clean['coupon'] == 'Bar'].copy()\n",
        "print(f\"Total bar coupons: {len(bar_coupons):,}\")\n"
      ]
    },
    {
      "cell_type": "markdown",
      "metadata": {
        "id": "8ue6uCqf_qRJ"
      },
      "source": [
        "2. What proportion of bar coupons were accepted?\n"
      ]
    },
    {
      "cell_type": "code",
      "execution_count": 138,
      "metadata": {
        "id": "hSdte8Mi_qRK",
        "colab": {
          "base_uri": "https://localhost:8080/"
        },
        "outputId": "6431db4f-b1ee-431b-e3fc-997d8dbf81cc"
      },
      "outputs": [
        {
          "output_type": "stream",
          "name": "stdout",
          "text": [
            "\n",
            "2. Bar coupon acceptance rate:\n",
            "Bar coupon acceptance rate: 41.0%\n"
          ]
        }
      ],
      "source": [
        "# 2. What proportion of bar coupons were accepted?\n",
        "print(\"\\n2. Bar coupon acceptance rate:\")\n",
        "bar_acceptance_rate = bar_coupons['Y'].mean()\n",
        "print(f\"Bar coupon acceptance rate: {bar_acceptance_rate:.1%}\")\n"
      ]
    },
    {
      "cell_type": "markdown",
      "metadata": {
        "id": "85nA_iEi_qRK"
      },
      "source": [
        "3. Compare the acceptance rate between those who went to a bar 3 or fewer times a month to those who went more.\n"
      ]
    },
    {
      "cell_type": "code",
      "execution_count": 139,
      "metadata": {
        "id": "LBOrN-XM_qRK",
        "colab": {
          "base_uri": "https://localhost:8080/"
        },
        "outputId": "0a0e2d74-fffe-4957-f78c-b2528779c33f"
      },
      "outputs": [
        {
          "output_type": "stream",
          "name": "stdout",
          "text": [
            "\n",
            "3. Acceptance rate by bar visit frequency:\n",
            "Bar visit frequency vs acceptance:\n",
            ">3 times/month: 67.7% (n=617.0)\n",
            "≤3 times/month: 29.2% (n=1400.0)\n"
          ]
        }
      ],
      "source": [
        "# 3. Compare acceptance rate: ≤3 times vs >3 times per month\n",
        "print(\"\\n3. Acceptance rate by bar visit frequency:\")\n",
        "\n",
        "# Create binary categories for bar visits\n",
        "def categorize_bar_visits(visit_freq):\n",
        "    if visit_freq in ['never', 'less1']:\n",
        "        return '≤3 times/month'\n",
        "    else:  # '1~3', '4~8', 'gt8'\n",
        "        return '>3 times/month'\n",
        "\n",
        "bar_coupons['bar_visit_category'] = bar_coupons['Bar'].apply(categorize_bar_visits)\n",
        "\n",
        "bar_visit_acceptance = bar_coupons.groupby('bar_visit_category')['Y'].agg(['mean', 'count'])\n",
        "print(\"Bar visit frequency vs acceptance:\")\n",
        "for category, stats in bar_visit_acceptance.iterrows():\n",
        "    print(f\"{category}: {stats['mean']:.1%} (n={stats['count']})\")\n"
      ]
    },
    {
      "cell_type": "markdown",
      "metadata": {
        "id": "RBgcQwH4_qRK"
      },
      "source": [
        "4. Compare the acceptance rate between drivers who go to a bar more than once a month and are over the age of 25 to the all others.  Is there a difference?\n"
      ]
    },
    {
      "cell_type": "code",
      "execution_count": 140,
      "metadata": {
        "id": "bf28bbeX_qRK",
        "colab": {
          "base_uri": "https://localhost:8080/"
        },
        "outputId": "e3963ba3-2750-4527-80be-7410bbbf682e"
      },
      "outputs": [
        {
          "output_type": "stream",
          "name": "stdout",
          "text": [
            "\n",
            "4. Bar visits >1/month + Age >25 analysis:\n",
            "Frequent bar-goers over 25 vs others:\n",
            "Others: 33.5% (n=1597.0)\n",
            "Frequent + Over 25: 69.5% (n=420.0)\n"
          ]
        }
      ],
      "source": [
        "# 4. Compare drivers who go to bars >1/month AND are >25 vs all others\n",
        "print(\"\\n4. Bar visits >1/month + Age >25 analysis:\")\n",
        "\n",
        "# Define conditions\n",
        "frequent_bar_goers = bar_coupons['Bar'].isin(['1~3', '4~8', 'gt8'])\n",
        "over_25 = bar_coupons['age'].isin(['26', '31', '36', '41', '46', '50plus'])\n",
        "\n",
        "bar_coupons['frequent_and_mature'] = frequent_bar_goers & over_25\n",
        "\n",
        "frequent_mature_acceptance = bar_coupons.groupby('frequent_and_mature')['Y'].agg(['mean', 'count'])\n",
        "print(\"Frequent bar-goers over 25 vs others:\")\n",
        "for is_frequent_mature, stats in frequent_mature_acceptance.iterrows():\n",
        "    label = \"Frequent + Over 25\" if is_frequent_mature else \"Others\"\n",
        "    print(f\"{label}: {stats['mean']:.1%} (n={stats['count']})\")\n"
      ]
    },
    {
      "cell_type": "markdown",
      "metadata": {
        "id": "S4RKT4PJ_qRK"
      },
      "source": [
        "5. Use the same process to compare the acceptance rate between drivers who go to bars more than once a month and had passengers that were not a kid and had occupations other than farming, fishing, or forestry.\n"
      ]
    },
    {
      "cell_type": "code",
      "execution_count": 141,
      "metadata": {
        "id": "sENaI2Tg_qRK",
        "colab": {
          "base_uri": "https://localhost:8080/"
        },
        "outputId": "bfc18008-190d-4767-95ff-58bd39d58777"
      },
      "outputs": [
        {
          "output_type": "stream",
          "name": "stdout",
          "text": [
            "\n",
            "5. Bar >1/month + no kids + not farming/fishing/forestry:\n",
            "Frequent bar-goers, no kids, not farming vs others:\n",
            "Others: 29.6% (n=1466.0)\n",
            "Meets conditions: 71.3% (n=551.0)\n"
          ]
        }
      ],
      "source": [
        "# 5. Bar >1/month + no kids + not farming/fishing/forestry\n",
        "print(\"\\n5. Bar >1/month + no kids + not farming/fishing/forestry:\")\n",
        "\n",
        "frequent_bar = bar_coupons['Bar'].isin(['1~3', '4~8', 'gt8'])\n",
        "no_kids = bar_coupons['passanger'] != 'Kid(s)'\n",
        "not_farming = ~bar_coupons['occupation'].isin(['Farming Fishing & Forestry'])\n",
        "\n",
        "bar_coupons['frequent_no_kids_not_farming'] = frequent_bar & no_kids & not_farming\n",
        "\n",
        "complex_condition_acceptance = bar_coupons.groupby('frequent_no_kids_not_farming')['Y'].agg(['mean', 'count'])\n",
        "print(\"Frequent bar-goers, no kids, not farming vs others:\")\n",
        "for meets_condition, stats in complex_condition_acceptance.iterrows():\n",
        "    label = \"Meets conditions\" if meets_condition else \"Others\"\n",
        "    print(f\"{label}: {stats['mean']:.1%} (n={stats['count']})\")\n"
      ]
    },
    {
      "cell_type": "markdown",
      "metadata": {
        "id": "n2LIUTil_qRK"
      },
      "source": [
        "6. Compare the acceptance rates between those drivers who:\n",
        "\n",
        "- go to bars more than once a month, had passengers that were not a kid, and were not widowed *OR*\n",
        "- go to bars more than once a month and are under the age of 30 *OR*\n",
        "- go to cheap restaurants more than 4 times a month and income is less than 50K.\n",
        "\n"
      ]
    },
    {
      "cell_type": "code",
      "execution_count": 142,
      "metadata": {
        "id": "aK_wEzx7_qRK",
        "colab": {
          "base_uri": "https://localhost:8080/"
        },
        "outputId": "b6a37663-0ad2-41e5-c505-4fed39e1855d"
      },
      "outputs": [
        {
          "output_type": "stream",
          "name": "stdout",
          "text": [
            "\n",
            "6. Complex OR conditions analysis:\n",
            "Meets any of the three OR conditions vs others:\n",
            "Others: 29.8% (n=1241.0)\n",
            "Meets OR conditions: 58.9% (n=776.0)\n"
          ]
        }
      ],
      "source": [
        "# 6. Complex OR conditions\n",
        "print(\"\\n6. Complex OR conditions analysis:\")\n",
        "\n",
        "# Condition 1: Bar >1/month + no kids + not widowed\n",
        "cond1 = (bar_coupons['Bar'].isin(['1~3', '4~8', 'gt8']) &\n",
        "         (bar_coupons['passanger'] != 'Kid(s)') &\n",
        "         (bar_coupons['maritalStatus'] != 'Widowed'))\n",
        "\n",
        "# Condition 2: Bar >1/month + age <30\n",
        "cond2 = (bar_coupons['Bar'].isin(['1~3', '4~8', 'gt8']) &\n",
        "         bar_coupons['age'].isin(['below21', '21', '26']))\n",
        "\n",
        "# Condition 3: Cheap restaurants >4/month + income <50K\n",
        "cond3 = (bar_coupons['RestaurantLessThan20'].isin(['4~8', 'gt8']) &\n",
        "         bar_coupons['income'].isin(['Less than $12500', '$12500 - $24999',\n",
        "                                   '$25000 - $37499', '$37500 - $49999']))\n",
        "\n",
        "bar_coupons['meets_any_condition'] = cond1 | cond2 | cond3\n",
        "\n",
        "or_conditions_acceptance = bar_coupons.groupby('meets_any_condition')['Y'].agg(['mean', 'count'])\n",
        "print(\"Meets any of the three OR conditions vs others:\")\n",
        "for meets_any, stats in or_conditions_acceptance.iterrows():\n",
        "    label = \"Meets OR conditions\" if meets_any else \"Others\"\n",
        "    print(f\"{label}: {stats['mean']:.1%} (n={stats['count']})\")"
      ]
    },
    {
      "cell_type": "markdown",
      "metadata": {
        "id": "v3fL3QkO_qRK"
      },
      "source": [
        "7.  Based on these observations, what do you hypothesize about drivers who accepted the bar coupons?"
      ]
    },
    {
      "cell_type": "code",
      "execution_count": 143,
      "metadata": {
        "id": "Y48naDFh_qRL",
        "colab": {
          "base_uri": "https://localhost:8080/"
        },
        "outputId": "b966a007-8c8e-466f-86cf-fc3b5295df1b"
      },
      "outputs": [
        {
          "output_type": "stream",
          "name": "stdout",
          "text": [
            "\n",
            "==================================================\n",
            "7. HYPOTHESIS ABOUT BAR COUPON ACCEPTANCE\n",
            "==================================================\n",
            "\n",
            "Based on the analysis of bar coupons, drivers who accept bar coupons tend to:\n",
            "\n",
            "1. Visit bars more frequently (>3 times per month): Higher acceptance rate\n",
            "2. Be older than 25 AND frequent bar-goers: Strong acceptance pattern\n",
            "3. Have specific lifestyle patterns: frequent bar visits + no kids + non-farming occupation\n",
            "4. Meet certain demographic criteria that suggest comfort with bar environments\n",
            "\n",
            "Key insights:\n",
            "- Frequency of bar visits is the strongest predictor\n",
            "- Age combined with bar frequency creates distinct segments\n",
            "- Presence of children as passengers significantly reduces acceptance\n",
            "- Occupation type (farming/fishing/forestry) may influence acceptance patterns\n",
            "- Multiple lifestyle factors can compensate for each other (OR conditions)\n",
            "\n",
            "Recommendation: Target frequent bar-goers, especially those over 25, \n",
            "when not traveling with children.\n",
            "\n"
          ]
        }
      ],
      "source": [
        "print(\"\\n\" + \"=\"*50)\n",
        "print(\"7. HYPOTHESIS ABOUT BAR COUPON ACCEPTANCE\")\n",
        "print(\"=\"*50)\n",
        "\n",
        "print(\"\"\"\n",
        "Based on the analysis of bar coupons, drivers who accept bar coupons tend to:\n",
        "\n",
        "1. Visit bars more frequently (>3 times per month): Higher acceptance rate\n",
        "2. Be older than 25 AND frequent bar-goers: Strong acceptance pattern\n",
        "3. Have specific lifestyle patterns: frequent bar visits + no kids + non-farming occupation\n",
        "4. Meet certain demographic criteria that suggest comfort with bar environments\n",
        "\n",
        "Key insights:\n",
        "- Frequency of bar visits is the strongest predictor\n",
        "- Age combined with bar frequency creates distinct segments\n",
        "- Presence of children as passengers significantly reduces acceptance\n",
        "- Occupation type (farming/fishing/forestry) may influence acceptance patterns\n",
        "- Multiple lifestyle factors can compensate for each other (OR conditions)\n",
        "\n",
        "Recommendation: Target frequent bar-goers, especially those over 25,\n",
        "when not traveling with children.\n",
        "\"\"\")"
      ]
    },
    {
      "cell_type": "markdown",
      "metadata": {
        "id": "r4Hu1zOb_qRL"
      },
      "source": [
        "### Independent Investigation\n",
        "\n",
        "Using the bar coupon example as motivation, you are to explore one of the other coupon groups and try to determine the characteristics of passengers who accept the coupons.  "
      ]
    },
    {
      "cell_type": "code",
      "execution_count": 158,
      "metadata": {
        "id": "0c71cQhu_qRL",
        "colab": {
          "base_uri": "https://localhost:8080/"
        },
        "outputId": "5562051d-bebc-473c-88ce-306743dfca5d"
      },
      "outputs": [
        {
          "output_type": "stream",
          "name": "stdout",
          "text": [
            "\n",
            "============================================================\n",
            "INDEPENDENT INVESTIGATION: COFFEE HOUSE COUPONS\n",
            "============================================================\n",
            "\n",
            "Analyzing Coffee House coupons to understand acceptance patterns...\n",
            "Total coffee house coupons: 3,996\n",
            "Coffee house coupon acceptance rate: 49.9%\n"
          ]
        }
      ],
      "source": [
        "print(\"\\n\" + \"=\"*60)\n",
        "print(\"INDEPENDENT INVESTIGATION: COFFEE HOUSE COUPONS\")\n",
        "print(\"=\"*60)\n",
        "\n",
        "print(\"\\nAnalyzing Coffee House coupons to understand acceptance patterns...\")\n",
        "\n",
        "# Create coffee house dataset\n",
        "coffee_coupons = data_clean[data_clean['coupon'] == 'Coffee House'].copy()\n",
        "print(f\"Total coffee house coupons: {len(coffee_coupons):,}\")\n",
        "\n",
        "# Overall acceptance rate\n",
        "coffee_acceptance_rate = coffee_coupons['Y'].mean()\n",
        "print(f\"Coffee house coupon acceptance rate: {coffee_acceptance_rate:.1%}\")\n"
      ]
    },
    {
      "cell_type": "code",
      "execution_count": 159,
      "metadata": {
        "id": "QEsBkvIN_qRL",
        "colab": {
          "base_uri": "https://localhost:8080/"
        },
        "outputId": "7b5e11bc-91c7-49a9-8c01-e2e6d3ba3076"
      },
      "outputs": [
        {
          "output_type": "stream",
          "name": "stdout",
          "text": [
            "\n",
            "1. Coffee house visit frequency analysis:\n",
            "Acceptance rate by coffee house visit frequency:\n",
            "4~8: 68.6% (n=538.0)\n",
            "gt8: 65.8% (n=342.0)\n",
            "1~3: 64.8% (n=1042.0)\n",
            "less1: 48.2% (n=1075.0)\n",
            "never: 18.9% (n=927.0)\n"
          ]
        }
      ],
      "source": [
        "# Analysis 1: Coffee house visit frequency vs acceptance\n",
        "print(\"\\n1. Coffee house visit frequency analysis:\")\n",
        "coffee_visit_acceptance = coffee_coupons.groupby('CoffeeHouse')['Y'].agg(['mean', 'count'])\n",
        "coffee_visit_acceptance = coffee_visit_acceptance.sort_values('mean', ascending=False)\n",
        "\n",
        "print(\"Acceptance rate by coffee house visit frequency:\")\n",
        "for frequency, stats in coffee_visit_acceptance.iterrows():\n",
        "    print(f\"{frequency}: {stats['mean']:.1%} (n={stats['count']})\")\n"
      ]
    },
    {
      "cell_type": "code",
      "execution_count": 160,
      "metadata": {
        "id": "fTC2WGE3_qRL",
        "colab": {
          "base_uri": "https://localhost:8080/"
        },
        "outputId": "a6f19f52-ce76-4212-96a7-d46d201b8dd7"
      },
      "outputs": [
        {
          "output_type": "stream",
          "name": "stdout",
          "text": [
            "\n",
            "2. Time of day analysis:\n",
            "Acceptance rate by time of day:\n",
            "10AM: 64.1% (n=899.0)\n",
            "2PM: 54.8% (n=794.0)\n",
            "7AM: 44.6% (n=913.0)\n",
            "10PM: 42.4% (n=297.0)\n",
            "6PM: 41.3% (n=1093.0)\n"
          ]
        }
      ],
      "source": [
        "# Analysis 2: Time of day impact\n",
        "print(\"\\n2. Time of day analysis:\")\n",
        "time_acceptance = coffee_coupons.groupby('time')['Y'].agg(['mean', 'count'])\n",
        "time_acceptance = time_acceptance.sort_values('mean', ascending=False)\n",
        "\n",
        "print(\"Acceptance rate by time of day:\")\n",
        "for time_period, stats in time_acceptance.iterrows():\n",
        "    print(f\"{time_period}: {stats['mean']:.1%} (n={stats['count']})\")\n"
      ]
    },
    {
      "cell_type": "code",
      "execution_count": 161,
      "metadata": {
        "id": "RrqUWn7d_qRL",
        "colab": {
          "base_uri": "https://localhost:8080/"
        },
        "outputId": "1fe85a76-dffd-4010-fe51-31bc765068bd"
      },
      "outputs": [
        {
          "output_type": "stream",
          "name": "stdout",
          "text": [
            "\n",
            "3. Age group analysis:\n",
            "Acceptance rate by age group:\n",
            "below21: 69.7% (n=155.0)\n",
            "21: 52.4% (n=883.0)\n",
            "26: 51.5% (n=843.0)\n",
            "46: 51.4% (n=220.0)\n",
            "41: 50.2% (n=325.0)\n",
            "31: 47.7% (n=623.0)\n",
            "36: 46.8% (n=402.0)\n",
            "50plus: 42.0% (n=545.0)\n"
          ]
        }
      ],
      "source": [
        "# Analysis 3: Age group analysis\n",
        "print(\"\\n3. Age group analysis:\")\n",
        "age_acceptance = coffee_coupons.groupby('age')['Y'].agg(['mean', 'count'])\n",
        "age_acceptance = age_acceptance.sort_values('mean', ascending=False)\n",
        "\n",
        "print(\"Acceptance rate by age group:\")\n",
        "for age_group, stats in age_acceptance.iterrows():\n",
        "    print(f\"{age_group}: {stats['mean']:.1%} (n={stats['count']})\")\n"
      ]
    },
    {
      "cell_type": "code",
      "execution_count": 162,
      "metadata": {
        "id": "_oykf8YP_qRL",
        "colab": {
          "base_uri": "https://localhost:8080/"
        },
        "outputId": "9df97668-aa56-4671-c3a8-b1a5006e1c7f"
      },
      "outputs": [
        {
          "output_type": "stream",
          "name": "stdout",
          "text": [
            "\n",
            "4. Passenger type analysis:\n",
            "Acceptance rate by passenger type:\n",
            "Friend(s): 59.7% (n=1228.0)\n",
            "Partner: 57.0% (n=305.0)\n",
            "Kid(s): 48.3% (n=207.0)\n",
            "Alone: 43.8% (n=2256.0)\n"
          ]
        }
      ],
      "source": [
        "# Analysis 4: Passenger type impact\n",
        "print(\"\\n4. Passenger type analysis:\")\n",
        "passenger_acceptance = coffee_coupons.groupby('passanger')['Y'].agg(['mean', 'count'])\n",
        "passenger_acceptance = passenger_acceptance.sort_values('mean', ascending=False)\n",
        "\n",
        "print(\"Acceptance rate by passenger type:\")\n",
        "for passenger_type, stats in passenger_acceptance.iterrows():\n",
        "    print(f\"{passenger_type}: {stats['mean']:.1%} (n={stats['count']})\")\n"
      ]
    },
    {
      "cell_type": "code",
      "source": [
        "# Analysis 5: Income level impact\n",
        "print(\"\\n5. Income level analysis:\")\n",
        "income_acceptance = coffee_coupons.groupby('income')['Y'].agg(['mean', 'count'])\n",
        "income_acceptance = income_acceptance.sort_values('mean', ascending=False)\n",
        "\n",
        "print(\"Acceptance rate by income level:\")\n",
        "for income_level, stats in income_acceptance.iterrows():\n",
        "    print(f\"{income_level}: {stats['mean']:.1%} (n={stats['count']})\")\n"
      ],
      "metadata": {
        "colab": {
          "base_uri": "https://localhost:8080/"
        },
        "id": "PIiC9l6NLMfM",
        "outputId": "15df7561-88c7-4d6e-f957-de7891cf9e68"
      },
      "execution_count": 163,
      "outputs": [
        {
          "output_type": "stream",
          "name": "stdout",
          "text": [
            "\n",
            "5. Income level analysis:\n",
            "Acceptance rate by income level:\n",
            "$87500 - $99999: 55.7% (n=271.0)\n",
            "Less than $12500: 55.2% (n=308.0)\n",
            "$37500 - $49999: 54.2% (n=590.0)\n",
            "$12500 - $24999: 54.0% (n=594.0)\n",
            "$50000 - $62499: 50.4% (n=548.0)\n",
            "$100000 or More: 49.4% (n=534.0)\n",
            "$25000 - $37499: 47.3% (n=640.0)\n",
            "$62500 - $74999: 43.6% (n=275.0)\n",
            "$75000 - $87499: 29.7% (n=236.0)\n"
          ]
        }
      ]
    },
    {
      "cell_type": "code",
      "source": [
        "# Complex analysis: High-value coffee house customers\n",
        "print(\"\\n6. Complex analysis - High-value coffee house customers:\")\n",
        "\n",
        "# Define high-value customers: frequent coffee drinkers with higher income\n",
        "frequent_coffee = coffee_coupons['CoffeeHouse'].isin(['4~8', 'gt8'])\n",
        "higher_income = coffee_coupons['income'].isin(['$50000 - $62499', '$62500 - $74999',\n",
        "                                             '$75000 - $87499', '$87500 - $99999',\n",
        "                                             '$100000 or More'])\n",
        "\n",
        "coffee_coupons['high_value_customer'] = frequent_coffee & higher_income\n",
        "\n",
        "high_value_acceptance = coffee_coupons.groupby('high_value_customer')['Y'].agg(['mean', 'count'])\n",
        "print(\"High-value customers (frequent + higher income) vs others:\")\n",
        "for is_high_value, stats in high_value_acceptance.iterrows():\n",
        "    label = \"High-value customers\" if is_high_value else \"Others\"\n",
        "    print(f\"{label}: {stats['mean']:.1%} (n={stats['count']})\")\n",
        ""
      ],
      "metadata": {
        "colab": {
          "base_uri": "https://localhost:8080/"
        },
        "id": "NivfaPX5LMc3",
        "outputId": "ace2bb38-0a17-44fe-c7b1-724274d6895b"
      },
      "execution_count": 164,
      "outputs": [
        {
          "output_type": "stream",
          "name": "stdout",
          "text": [
            "\n",
            "6. Complex analysis - High-value coffee house customers:\n",
            "High-value customers (frequent + higher income) vs others:\n",
            "Others: 48.4% (n=3596.0)\n",
            "High-value customers: 63.2% (n=400.0)\n"
          ]
        }
      ]
    },
    {
      "cell_type": "code",
      "source": [
        "# Visualization for coffee house analysis\n",
        "plt.figure(figsize=(15, 10))\n",
        "\n",
        "# Plot 1: Acceptance by visit frequency\n",
        "plt.subplot(2, 3, 1)\n",
        "coffee_visit_acceptance['mean'].plot(kind='bar', color='brown', alpha=0.7)\n",
        "plt.title('Coffee House Acceptance by Visit Frequency')\n",
        "plt.xticks(rotation=45)\n",
        "plt.ylabel('Acceptance Rate')\n"
      ],
      "metadata": {
        "colab": {
          "base_uri": "https://localhost:8080/",
          "height": 488
        },
        "id": "IvZgmqCELMax",
        "outputId": "29310788-31eb-4a58-f6f0-60632357c7c5"
      },
      "execution_count": 165,
      "outputs": [
        {
          "output_type": "execute_result",
          "data": {
            "text/plain": [
              "Text(0, 0.5, 'Acceptance Rate')"
            ]
          },
          "metadata": {},
          "execution_count": 165
        },
        {
          "output_type": "display_data",
          "data": {
            "text/plain": [
              "<Figure size 1500x1000 with 1 Axes>"
            ],
            "image/png": "[encoded data removed]"
          },
          "metadata": {}
        }
      ]
    },
    {
      "cell_type": "code",
      "source": [
        "# Plot 2: Acceptance by time\n",
        "plt.subplot(2, 3, 2)\n",
        "time_acceptance['mean'].plot(kind='bar', color='orange', alpha=0.7)\n",
        "plt.title('Coffee House Acceptance by Time')\n",
        "plt.xticks(rotation=0)\n",
        "plt.ylabel('Acceptance Rate')\n"
      ],
      "metadata": {
        "colab": {
          "base_uri": "https://localhost:8080/",
          "height": 310
        },
        "id": "gVy6fLmKLMYs",
        "outputId": "29218f4b-e890-4b4c-9379-bb56ef929bdb"
      },
      "execution_count": 166,
      "outputs": [
        {
          "output_type": "execute_result",
          "data": {
            "text/plain": [
              "Text(0, 0.5, 'Acceptance Rate')"
            ]
          },
          "metadata": {},
          "execution_count": 166
        },
        {
          "output_type": "display_data",
          "data": {
            "text/plain": [
              "<Figure size 800x550 with 1 Axes>"
            ],
            "image/png": "[encoded data removed]"
          },
          "metadata": {}
        }
      ]
    },
    {
      "cell_type": "code",
      "source": [
        "# Plot 3: Acceptance by age\n",
        "plt.subplot(2, 3, 3)\n",
        "age_acceptance['mean'].plot(kind='bar', color='green', alpha=0.7)\n",
        "plt.title('Coffee House Acceptance by Age')\n",
        "plt.xticks(rotation=45)\n",
        "plt.ylabel('Acceptance Rate')\n"
      ],
      "metadata": {
        "colab": {
          "base_uri": "https://localhost:8080/",
          "height": 342
        },
        "id": "B2Co5Sf1LMWm",
        "outputId": "f97103db-fabd-46d4-cf71-3f375c931b81"
      },
      "execution_count": 167,
      "outputs": [
        {
          "output_type": "execute_result",
          "data": {
            "text/plain": [
              "Text(0, 0.5, 'Acceptance Rate')"
            ]
          },
          "metadata": {},
          "execution_count": 167
        },
        {
          "output_type": "display_data",
          "data": {
            "text/plain": [
              "<Figure size 800x550 with 1 Axes>"
            ],
            "image/png": "[encoded data removed]"
          },
          "metadata": {}
        }
      ]
    },
    {
      "cell_type": "code",
      "source": [
        "# Plot 4: Acceptance by passenger\n",
        "plt.subplot(2, 3, 4)\n",
        "passenger_acceptance['mean'].plot(kind='bar', color='blue', alpha=0.7)\n",
        "plt.title('Coffee House Acceptance by Passenger')\n",
        "plt.xticks(rotation=45)\n",
        "plt.ylabel('Acceptance Rate')\n"
      ],
      "metadata": {
        "colab": {
          "base_uri": "https://localhost:8080/",
          "height": 345
        },
        "id": "u_8zzLDoLMUR",
        "outputId": "a5c540d1-a295-4ecd-f5cf-63a2a69150bb"
      },
      "execution_count": 168,
      "outputs": [
        {
          "output_type": "execute_result",
          "data": {
            "text/plain": [
              "Text(0, 0.5, 'Acceptance Rate')"
            ]
          },
          "metadata": {},
          "execution_count": 168
        },
        {
          "output_type": "display_data",
          "data": {
            "text/plain": [
              "<Figure size 800x550 with 1 Axes>"
            ],
            "image/png": "[encoded data removed]"
          },
          "metadata": {}
        }
      ]
    },
    {
      "cell_type": "code",
      "source": [
        "# Plot 5: Acceptance by income\n",
        "plt.subplot(2, 3, 5)\n",
        "income_acceptance['mean'].head(6).plot(kind='bar', color='purple', alpha=0.7)\n",
        "plt.title('Coffee House Acceptance by Income (Top 6)')\n",
        "plt.xticks(rotation=45)\n",
        "plt.ylabel('Acceptance Rate')\n"
      ],
      "metadata": {
        "colab": {
          "base_uri": "https://localhost:8080/",
          "height": 384
        },
        "id": "iep1FqMBLMRu",
        "outputId": "bd8b0f63-11f8-428a-ab2f-c0f7b48c5948"
      },
      "execution_count": 169,
      "outputs": [
        {
          "output_type": "execute_result",
          "data": {
            "text/plain": [
              "Text(0, 0.5, 'Acceptance Rate')"
            ]
          },
          "metadata": {},
          "execution_count": 169
        },
        {
          "output_type": "display_data",
          "data": {
            "text/plain": [
              "<Figure size 800x550 with 1 Axes>"
            ],
            "image/png": "[encoded data removed]"
          },
          "metadata": {}
        }
      ]
    },
    {
      "cell_type": "code",
      "source": [
        "# Plot 6: High-value customers\n",
        "plt.subplot(2, 3, 6)\n",
        "high_value_acceptance['mean'].plot(kind='bar', color='red', alpha=0.7)\n",
        "plt.title('High-Value vs Regular Customers')\n",
        "plt.xticks(rotation=0)\n",
        "plt.ylabel('Acceptance Rate')\n",
        "\n",
        "plt.tight_layout()\n",
        "plt.show()\n"
      ],
      "metadata": {
        "colab": {
          "base_uri": "https://localhost:8080/",
          "height": 321
        },
        "id": "nidUSveDLtTd",
        "outputId": "a2ca6fcd-93b9-4e0d-b943-05d43d37448c"
      },
      "execution_count": 170,
      "outputs": [
        {
          "output_type": "display_data",
          "data": {
            "text/plain": [
              "<Figure size 800x550 with 1 Axes>"
            ],
            "image/png": "[encoded data removed]"
          },
          "metadata": {}
        }
      ]
    },
    {
      "cell_type": "code",
      "source": [
        "print(\"\\n\" + \"=\"*50)\n",
        "print(\"COFFEE HOUSE COUPON INSIGHTS\")\n",
        "print(\"=\"*50)\n",
        "\n",
        "print(\"\"\"\n",
        "Key findings for Coffee House coupon acceptance:\n",
        "\n",
        "1. VISIT FREQUENCY MATTERS: Customers who visit coffee houses 4-8 times per month\n",
        "   have the highest acceptance rate, followed by those who go 1-3 times.\n",
        "\n",
        "2. TIME OF DAY: 10AM shows the highest acceptance rate, likely during morning\n",
        "   coffee routine. 2PM also performs well (afternoon coffee break).\n",
        "\n",
        "3. AGE PATTERNS: Younger adults (21, 26) and middle-aged groups show higher\n",
        "   acceptance rates, suggesting coffee culture resonates with working professionals.\n",
        "\n",
        "4. SOCIAL CONTEXT: Acceptance rates vary by passenger type, with certain\n",
        "   social situations being more conducive to coffee shop visits.\n",
        "\n",
        "5. INCOME CORRELATION: Higher income groups show varying acceptance patterns,\n",
        "   but frequent visitors with higher income represent a valuable target segment.\n",
        "\n",
        "6. HIGH-VALUE CUSTOMERS: Frequent coffee drinkers with higher income show\n",
        "   distinct acceptance patterns and could be a premium target segment.\n",
        "\n",
        "RECOMMENDATIONS for Coffee House coupons:\n",
        "- Target during morning hours (10AM) and afternoon breaks (2PM)\n",
        "- Focus on frequent coffee drinkers (1-8 times per month)\n",
        "- Consider age-specific messaging for 21-26 and middle-aged segments\n",
        "- Develop premium offers for high-value customer segment\n",
        "- Account for social context when delivering coupons\n",
        "\"\"\")"
      ],
      "metadata": {
        "colab": {
          "base_uri": "https://localhost:8080/"
        },
        "id": "AxeOn9NtLtRZ",
        "outputId": "ca5eff87-2ba6-4fe3-a975-0fb385e0cf65"
      },
      "execution_count": 173,
      "outputs": [
        {
          "output_type": "stream",
          "name": "stdout",
          "text": [
            "\n",
            "==================================================\n",
            "COFFEE HOUSE COUPON INSIGHTS\n",
            "==================================================\n",
            "\n",
            "Key findings for Coffee House coupon acceptance:\n",
            "\n",
            "1. VISIT FREQUENCY MATTERS: Customers who visit coffee houses 4-8 times per month \n",
            "   have the highest acceptance rate, followed by those who go 1-3 times.\n",
            "\n",
            "2. TIME OF DAY: 10AM shows the highest acceptance rate, likely during morning \n",
            "   coffee routine. 2PM also performs well (afternoon coffee break).\n",
            "\n",
            "3. AGE PATTERNS: Younger adults (21, 26) and middle-aged groups show higher \n",
            "   acceptance rates, suggesting coffee culture resonates with working professionals.\n",
            "\n",
            "4. SOCIAL CONTEXT: Acceptance rates vary by passenger type, with certain \n",
            "   social situations being more conducive to coffee shop visits.\n",
            "\n",
            "5. INCOME CORRELATION: Higher income groups show varying acceptance patterns, \n",
            "   but frequent visitors with higher income represent a valuable target segment.\n",
            "\n",
            "6. HIGH-VALUE CUSTOMERS: Frequent coffee drinkers with higher income show \n",
            "   distinct acceptance patterns and could be a premium target segment.\n",
            "\n",
            "RECOMMENDATIONS for Coffee House coupons:\n",
            "- Target during morning hours (10AM) and afternoon breaks (2PM)\n",
            "- Focus on frequent coffee drinkers (1-8 times per month)\n",
            "- Consider age-specific messaging for 21-26 and middle-aged segments\n",
            "- Develop premium offers for high-value customer segment\n",
            "- Account for social context when delivering coupons\n",
            "\n"
          ]
        }
      ]
    }
  ],
  "metadata": {
    "kernelspec": {
      "display_name": "Python 3 (ipykernel)",
      "language": "python",
      "name": "python3"
    },
    "language_info": {
      "codemirror_mode": {
        "name": "ipython",
        "version": 3
      },
      "file_extension": ".py",
      "mimetype": "text/x-python",
      "name": "python",
      "nbconvert_exporter": "python",
      "pygments_lexer": "ipython3",
      "version": "3.12.1"
    },
    "colab": {
      "provenance": []
    }
  },
  "nbformat": 4,
  "nbformat_minor": 0
}